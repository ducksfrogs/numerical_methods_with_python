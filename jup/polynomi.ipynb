{
 "cells": [
  {
   "cell_type": "code",
   "execution_count": 4,
   "metadata": {},
   "outputs": [],
   "source": []
  },
  {
   "cell_type": "code",
   "execution_count": 5,
   "metadata": {},
   "outputs": [],
   "source": [
    "import numpy as np\n",
    "import matplotlib.pyplot as plt\n",
    "%matplotlib inline"
   ]
  },
  {
   "cell_type": "code",
   "execution_count": 8,
   "metadata": {},
   "outputs": [],
   "source": [
    "x = np.arange(6)\n",
    "y = np.array([2, 8, 14, 28, 39,62])"
   ]
  },
  {
   "cell_type": "code",
   "execution_count": 9,
   "metadata": {},
   "outputs": [
    {
     "data": {
      "text/plain": [
       "<matplotlib.collections.PathCollection at 0x7fc3937c9f60>"
      ]
     },
     "execution_count": 9,
     "metadata": {},
     "output_type": "execute_result"
    },
    {
     "data": {
      "image/png": "[encoded data removed]",
      "text/plain": [
       "<Figure size 432x288 with 1 Axes>"
      ]
     },
     "metadata": {
      "needs_background": "light"
     },
     "output_type": "display_data"
    }
   ],
   "source": [
    "plt.scatter(x,y)"
   ]
  },
  {
   "cell_type": "code",
   "execution_count": 10,
   "metadata": {},
   "outputs": [],
   "source": [
    "m = len(x)\n",
    "n = 2\n",
    "A = np.zeros((n+1, n+1))\n",
    "B = np.zeros(n+1)\n",
    "a = np.zeros(n+1)\n"
   ]
  },
  {
   "cell_type": "code",
   "execution_count": 12,
   "metadata": {},
   "outputs": [
    {
     "name": "stdout",
     "output_type": "stream",
     "text": [
      "The polynomial :\n",
      "f(x) = \t 2.678571 \t\n",
      "\t +2.253571 x^1\n",
      "\t +1.875000 x^2\n"
     ]
    }
   ],
   "source": [
    "for row in range(n+1):\n",
    "    for col in range(n+1):\n",
    "        if row == 0 and col == 0:\n",
    "            A[row, col] = m\n",
    "            continue\n",
    "        A[row, col] = np.sum(x**(row+col))\n",
    "    B[row] = np.sum(x**row* y)\n",
    "    \n",
    "a = np.linalg.solve(A, B)\n",
    "\n",
    "print(\"The polynomial :\")     \n",
    "print('f(x) = \\t %f \\t' %a[0])\n",
    "\n",
    "for i in range(1, n+1):\n",
    "    print('\\t %+f x^%d' %(a[i], i))"
   ]
  },
  {
   "cell_type": "code",
   "execution_count": null,
   "metadata": {},
   "outputs": [],
   "source": [
    "\n",
    "y = [2, 8, 14, 28, 39,62]"
   ]
  }
 ],
 "metadata": {
  "kernelspec": {
   "display_name": "Python 3",
   "language": "python",
   "name": "python3"
  },
  "language_info": {
   "codemirror_mode": {
    "name": "ipython",
    "version": 3
   },
   "file_extension": ".py",
   "mimetype": "text/x-python",
   "name": "python",
   "nbconvert_exporter": "python",
   "pygments_lexer": "ipython3",
   "version": "3.7.3"
  }
 },
 "nbformat": 4,
 "nbformat_minor": 2
}
