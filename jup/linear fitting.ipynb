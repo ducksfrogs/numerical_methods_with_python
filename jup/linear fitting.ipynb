{
 "cells": [
  {
   "cell_type": "code",
   "execution_count": 2,
   "metadata": {},
   "outputs": [],
   "source": [
    "import numpy as np\n",
    "import matplotlib.pyplot as plt\n",
    "%matplotlib inline"
   ]
  },
  {
   "cell_type": "code",
   "execution_count": 4,
   "metadata": {},
   "outputs": [],
   "source": [
    "x = np.array([0, 20, 40, 60, 80, 100])\n",
    "y = np.array([26.0, 48,6, 61.6, 71.2, 74.8, 75.2])"
   ]
  },
  {
   "cell_type": "code",
   "execution_count": 8,
   "metadata": {},
   "outputs": [
    {
     "name": "stdout",
     "output_type": "stream",
     "text": [
      "Enter x : 23\n",
      "For x = 23.0, y = 35.2\n"
     ]
    }
   ],
   "source": [
    "m = len(x)\n",
    "n = m -1\n",
    "xp = float(input(\"Enter x : \"))\n",
    "yp = 0\n",
    "for i in range(n+1):\n",
    "    L=1\n",
    "    for j in range(n+1):\n",
    "        if j != i:\n",
    "            L *= (xp - x[j])/(x[i] -x[j])\n",
    "    yp += y[i]*L\n",
    "    \n",
    "    \n",
    "print('For x = %.1f, y = %.1f' % (xp, yp))"
   ]
  },
  {
   "cell_type": "code",
   "execution_count": null,
   "metadata": {},
   "outputs": [],
   "source": []
  }
 ],
 "metadata": {
  "kernelspec": {
   "display_name": "Python 3",
   "language": "python",
   "name": "python3"
  },
  "language_info": {
   "codemirror_mode": {
    "name": "ipython",
    "version": 3
   },
   "file_extension": ".py",
   "mimetype": "text/x-python",
   "name": "python",
   "nbconvert_exporter": "python",
   "pygments_lexer": "ipython3",
   "version": "3.7.3"
  }
 },
 "nbformat": 4,
 "nbformat_minor": 2
}
